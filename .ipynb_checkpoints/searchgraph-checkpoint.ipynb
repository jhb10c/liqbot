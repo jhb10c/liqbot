{
 "cells": [
  {
   "cell_type": "code",
   "execution_count": null,
   "id": "4061d912",
   "metadata": {},
   "outputs": [],
   "source": [
    "############################\n",
    "#import all useful libraries\n",
    "############################\n",
    "import requests\n",
    "import json\n",
    "import pandas as pd\n",
    "from datascience import *\n",
    "###########################"
   ]
  },
  {
   "cell_type": "code",
   "execution_count": null,
   "id": "60e2c3a3",
   "metadata": {},
   "outputs": [],
   "source": [
    "############################\n",
    "#Make query to graph \n",
    "############################\n",
    "\n",
    "\n",
    "url = 'https://api.thegraph.com/subgraphs/name/traderjoe-xyz/lending'\n",
    "\n",
    "query=\"\"\"{\n",
    "  accounts(where: {health_gt: 0, health_lt: 1.01, totalBorrowValueInUSD_gt: 0}) {\n",
    "    id\n",
    "    health\n",
    "    totalBorrowValueInUSD\n",
    "    totalCollateralValueInUSD\n",
    "  }}\"\"\"\n",
    "\n",
    "r = requests.post(url, json={'query': query})\n",
    "#print(r.status_code)\n",
    "#r.json()\n",
    "############################\n",
    "############################\n"
   ]
  },
  {
   "cell_type": "code",
   "execution_count": null,
   "id": "b25297e7",
   "metadata": {},
   "outputs": [],
   "source": [
    "############################\n",
    "# Our Query is a dictionary\n",
    "# of accounts that meet\n",
    "# the criteria\n",
    "############################\n",
    "\n",
    "r.json()['data']['accounts'][0]\n",
    "\n",
    "############################\n",
    "# Above is an example of a\n",
    "# almost liquidated account\n",
    "############################\n"
   ]
  },
  {
   "cell_type": "code",
   "execution_count": null,
   "id": "c15bebfc",
   "metadata": {},
   "outputs": [],
   "source": [
    "############################\n",
    "# Make table of all accounts\n",
    "# and search for close to\n",
    "# liquidation\n",
    "############################\n",
    "r = requests.post(url, json={'query': query})\n",
    "games = Table(['health', 'id', 'totalBorrowValueInUSD','totalCollateralValueInUSD'])\n",
    "for i in r.json()['data']['accounts']:\n",
    "    games.append(i.values())\n",
    "    \n",
    "games\n",
    "############################\n",
    "############################"
   ]
  },
  {
   "cell_type": "code",
   "execution_count": null,
   "id": "1db5ceb2",
   "metadata": {},
   "outputs": [],
   "source": []
  },
  {
   "cell_type": "code",
   "execution_count": null,
   "id": "51eea75b",
   "metadata": {},
   "outputs": [],
   "source": []
  }
 ],
 "metadata": {
  "kernelspec": {
   "display_name": "Python 3",
   "language": "python",
   "name": "python3"
  },
  "language_info": {
   "codemirror_mode": {
    "name": "ipython",
    "version": 3
   },
   "file_extension": ".py",
   "mimetype": "text/x-python",
   "name": "python",
   "nbconvert_exporter": "python",
   "pygments_lexer": "ipython3",
   "version": "3.8.8"
  }
 },
 "nbformat": 4,
 "nbformat_minor": 5
}
