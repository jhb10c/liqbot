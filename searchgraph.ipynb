{
 "cells": [
  {
   "cell_type": "code",
   "execution_count": 103,
   "id": "4061d912",
   "metadata": {},
   "outputs": [],
   "source": [
    "############################\n",
    "#import all useful libraries\n",
    "############################\n",
    "import requests\n",
    "import json\n",
    "import pandas as pd\n",
    "from pprint import pprint\n",
    "from datascience import *\n",
    "###########################"
   ]
  },
  {
   "cell_type": "code",
   "execution_count": 104,
   "id": "60e2c3a3",
   "metadata": {},
   "outputs": [],
   "source": [
    "############################\n",
    "#Make query to graph \n",
    "############################\n",
    "\n",
    "\n",
    "url = 'https://api.thegraph.com/subgraphs/name/traderjoe-xyz/lending'\n",
    "\n",
    "query=\"\"\"{\n",
    "  accounts(where: {health_gt: 0, health_lt: 1.01, totalBorrowValueInUSD_gt: 0}) {\n",
    "    id\n",
    "    health\n",
    "    totalBorrowValueInUSD\n",
    "    totalCollateralValueInUSD\n",
    "  }}\"\"\"\n",
    "\n",
    "r = requests.post(url, json={'query': query})\n",
    "#print(r.status_code)\n",
    "#r.json()\n",
    "############################\n",
    "############################\n"
   ]
  },
  {
   "cell_type": "code",
   "execution_count": 105,
   "id": "b25297e7",
   "metadata": {},
   "outputs": [
    {
     "data": {
      "text/plain": [
       "{'health': '1.009858643086855905',\n",
       " 'id': '0x067989c6af98accc1e94ff8c21a6331b2efea928',\n",
       " 'totalBorrowValueInUSD': '13969.71507821804893',\n",
       " 'totalCollateralValueInUSD': '14107.43751319927'}"
      ]
     },
     "execution_count": 105,
     "metadata": {},
     "output_type": "execute_result"
    }
   ],
   "source": [
    "############################\n",
    "# Our Query is a dictionary\n",
    "# of accounts that meet\n",
    "# the criteria\n",
    "############################\n",
    "\n",
    "r.json()['data']['accounts'][0]\n",
    "\n",
    "############################\n",
    "# Above is an example of a\n",
    "# almost liquidated account\n",
    "############################\n"
   ]
  },
  {
   "cell_type": "code",
   "execution_count": 106,
   "id": "c15bebfc",
   "metadata": {},
   "outputs": [
    {
     "data": {
      "text/html": [
       "<table border=\"1\" class=\"dataframe\">\n",
       "    <thead>\n",
       "        <tr>\n",
       "            <th>health</th> <th>id</th> <th>totalBorrowValueInUSD</th> <th>totalCollateralValueInUSD</th>\n",
       "        </tr>\n",
       "    </thead>\n",
       "    <tbody>\n",
       "        <tr>\n",
       "            <td>1.009858643086855905</td> <td>0x067989c6af98accc1e94ff8c21a6331b2efea928</td> <td>13969.71507821804893      </td> <td>14107.43751319927         </td>\n",
       "        </tr>\n",
       "        <tr>\n",
       "            <td>1.005499017647058823</td> <td>0x0b7a58935f8ef849889b90ee3fa0f35f5944a28f</td> <td>136.01524424              </td> <td>136.763194468344776       </td>\n",
       "        </tr>\n",
       "        <tr>\n",
       "            <td>1.005865266020887664</td> <td>0x5fe81b5b7e8e2812e419954d566c00d40143b9cf</td> <td>1015.844112480071143703   </td> <td>1021.802308435519292061   </td>\n",
       "        </tr>\n",
       "        <tr>\n",
       "            <td>1.008826063074399619</td> <td>0x6b25ca1834f3ff16e07087740a7bf7a771850261</td> <td>8357.11089457179459       </td> <td>8430.87128244703748       </td>\n",
       "        </tr>\n",
       "        <tr>\n",
       "            <td>1.008644774701161854</td> <td>0x8212391d4fa83cb3246cdfd3575d610c0b342241</td> <td>25.561249237097623034     </td> <td>25.782220477832577312     </td>\n",
       "        </tr>\n",
       "        <tr>\n",
       "            <td>1.008609990691901954</td> <td>0x8218a39d6684c3512eb1ec3835d2243b0baf8087</td> <td>18.05018589               </td> <td>18.2055978225             </td>\n",
       "        </tr>\n",
       "        <tr>\n",
       "            <td>1.003894048144048031</td> <td>0xa177fb36af688172a3527ae5b2f8489719e7c206</td> <td>2168947.2243808703185106  </td> <td>2177393.209294508776977733</td>\n",
       "        </tr>\n",
       "        <tr>\n",
       "            <td>1.003968511488511488</td> <td>0xb4aead784c4e59ee9d1b317f82603b769bdba982</td> <td>10.0105267262             </td> <td>10.050253616518976        </td>\n",
       "        </tr>\n",
       "        <tr>\n",
       "            <td>1.004861219709681104</td> <td>0xb80984375648c868f2d175e157800a2939167d80</td> <td>9913042.929166258754569188</td> <td>9961232.408836436685336304</td>\n",
       "        </tr>\n",
       "        <tr>\n",
       "            <td>1.008965831903994366</td> <td>0xbbf15e008535cb93a7e2168038dc316c56faf791</td> <td>95796.06865103103975      </td> <td>96654.960099619688377559  </td>\n",
       "        </tr>\n",
       "    </tbody>\n",
       "</table>\n",
       "<p>... (5 rows omitted)</p>"
      ],
      "text/plain": [
       "health               | id                                         | totalBorrowValueInUSD      | totalCollateralValueInUSD\n",
       "1.009858643086855905 | 0x067989c6af98accc1e94ff8c21a6331b2efea928 | 13969.71507821804893       | 14107.43751319927\n",
       "1.005499017647058823 | 0x0b7a58935f8ef849889b90ee3fa0f35f5944a28f | 136.01524424               | 136.763194468344776\n",
       "1.005865266020887664 | 0x5fe81b5b7e8e2812e419954d566c00d40143b9cf | 1015.844112480071143703    | 1021.802308435519292061\n",
       "1.008826063074399619 | 0x6b25ca1834f3ff16e07087740a7bf7a771850261 | 8357.11089457179459        | 8430.87128244703748\n",
       "1.008644774701161854 | 0x8212391d4fa83cb3246cdfd3575d610c0b342241 | 25.561249237097623034      | 25.782220477832577312\n",
       "1.008609990691901954 | 0x8218a39d6684c3512eb1ec3835d2243b0baf8087 | 18.05018589                | 18.2055978225\n",
       "1.003894048144048031 | 0xa177fb36af688172a3527ae5b2f8489719e7c206 | 2168947.2243808703185106   | 2177393.209294508776977733\n",
       "1.003968511488511488 | 0xb4aead784c4e59ee9d1b317f82603b769bdba982 | 10.0105267262              | 10.050253616518976\n",
       "1.004861219709681104 | 0xb80984375648c868f2d175e157800a2939167d80 | 9913042.929166258754569188 | 9961232.408836436685336304\n",
       "1.008965831903994366 | 0xbbf15e008535cb93a7e2168038dc316c56faf791 | 95796.06865103103975       | 96654.960099619688377559\n",
       "... (5 rows omitted)"
      ]
     },
     "execution_count": 106,
     "metadata": {},
     "output_type": "execute_result"
    }
   ],
   "source": [
    "############################\n",
    "# Make table of all accounts\n",
    "# and search for close to\n",
    "# liquidation\n",
    "############################\n",
    "r = requests.post(url, json={'query': query})\n",
    "games = Table(['health', 'id', 'totalBorrowValueInUSD','totalCollateralValueInUSD'])\n",
    "for i in r.json()['data']['accounts']:\n",
    "    games.append(i.values())\n",
    "    \n",
    "games\n",
    "############################\n",
    "############################"
   ]
  },
  {
   "cell_type": "code",
   "execution_count": null,
   "id": "1db5ceb2",
   "metadata": {},
   "outputs": [],
   "source": []
  },
  {
   "cell_type": "code",
   "execution_count": null,
   "id": "51eea75b",
   "metadata": {},
   "outputs": [],
   "source": []
  }
 ],
 "metadata": {
  "kernelspec": {
   "display_name": "Python 3",
   "language": "python",
   "name": "python3"
  },
  "language_info": {
   "codemirror_mode": {
    "name": "ipython",
    "version": 3
   },
   "file_extension": ".py",
   "mimetype": "text/x-python",
   "name": "python",
   "nbconvert_exporter": "python",
   "pygments_lexer": "ipython3",
   "version": "3.8.8"
  }
 },
 "nbformat": 4,
 "nbformat_minor": 5
}
